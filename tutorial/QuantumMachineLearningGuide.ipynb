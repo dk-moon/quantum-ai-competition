{
 "cells": [
  {
   "cell_type": "markdown",
   "id": "f90c34c6",
   "metadata": {},
   "source": [
    "# Quantum Machine Learning Guide\n",
    "\n",
    "> 양자 컴퓨팅 프레임워크에 대한 개략적인 소개와 QML의 구현 방법을 제공합니다.\n",
    "\n",
    "일반적으로 2개의 주요 양자 컴퓨팅 프레임워크가 있습니다:\n",
    "1. **Pennylane**: 양자 머신러닝에 중점을 둔 프레임워크로, 다양한 양자 하드웨어 백엔드를 지원합니다.\n",
    "2. **Qiskit**: IBM에서 개발한 프레임워크로, 좀 더 물리적인 실험과 대규모 HPC(High Performance Computing) 연산을 포함하는 통합적인 프레임워크를 제공합니다.\n",
    "\n",
    "여기에서는 QML 구현을 위해 Pennylane을 사용합니다."
   ]
  },
  {
   "cell_type": "code",
   "execution_count": null,
   "id": "94d6a62b",
   "metadata": {},
   "outputs": [],
   "source": [
    "# 사용할 라이브러리 설치\n",
    "#!pip install pennylane torch torchvision"
   ]
  },
  {
   "cell_type": "markdown",
   "id": "426d6e00",
   "metadata": {},
   "source": [
    "## 양자 회로 설계하기"
   ]
  },
  {
   "cell_type": "code",
   "execution_count": 1,
   "id": "c6c6a3b3",
   "metadata": {},
   "outputs": [],
   "source": [
    "import pennylane as qml\n",
    "import numpy as np\n",
    "\n",
    "dev = qml.device(\"default.qubit\", wires=3) # device 정의\n",
    "\n",
    "@qml.qnode(dev) # QNode 데코레이터로 양자 회로 정의\n",
    "def circuit():\n",
    "    qml.H(0)\n",
    "    qml.S(0)\n",
    "    qml.RX(0.32, wires=0)\n",
    "    qml.H(2)\n",
    "    return qml.probs()"
   ]
  },
  {
   "cell_type": "markdown",
   "id": "f856f344",
   "metadata": {},
   "source": [
    "## 양자 회로 그리기"
   ]
  },
  {
   "cell_type": "code",
   "execution_count": 2,
   "id": "957ee03b",
   "metadata": {},
   "outputs": [
    {
     "name": "stdout",
     "output_type": "stream",
     "text": [
      "0: ──H──S──RX(0.32)─┤  Probs\n",
      "2: ──H──────────────┤  Probs\n"
     ]
    }
   ],
   "source": [
    "print(qml.draw(circuit)()) # 양자 회로 그리기"
   ]
  },
  {
   "cell_type": "code",
   "execution_count": 3,
   "id": "4cca7199",
   "metadata": {},
   "outputs": [
    {
     "data": {
      "text/plain": [
       "(<Figure size 600x300 with 1 Axes>, <Axes: >)"
      ]
     },
     "execution_count": 3,
     "metadata": {},
     "output_type": "execute_result"
    },
    {
     "data": {
      "image/png": "[encoded data removed]",
      "text/plain": [
       "<Figure size 600x300 with 1 Axes>"
      ]
     },
     "metadata": {},
     "output_type": "display_data"
    }
   ],
   "source": [
    "qml.draw_mpl(circuit)()"
   ]
  },
  {
   "cell_type": "markdown",
   "id": "c3ebaa49",
   "metadata": {},
   "source": [
    "|양자 회로|ML|\n",
    "|:---:|:---:|\n",
    "|Quantum Circuit|Layer, ML Module|\n",
    "|Backend|device(CPU, CUDA, ...)|"
   ]
  },
  {
   "cell_type": "markdown",
   "id": "7dbae611",
   "metadata": {},
   "source": [
    "## Backend\n",
    "\n",
    "Backend는 실제 양자 회로를 구동하는 시뮬레이터, 혹은 양자 컴퓨터입니다.\n",
    "한 개의 회로를 어느 기기에서 구동할 지 미리 선언을 해주어야 합니다.\n",
    "\n",
    "**Backend 선택**\n",
    "다양한 Backend를 양자 회로를 구동하는데 사용할 수 있습니다. Pennylane의 `default.qubit`, `lighting.qubit` 등 뿐만 아니라, Qiskit, IQM 등 실제 양자 컴퓨터의 Backend interface를 가져와 사용할 수도 있습니다.\n",
    "\n",
    "그러나, QML을 구현하고 시험해 볼 때는 `default.qubit`이 권장됩니다. 다른 ML 프레임워크와의 결합도 간편할 뿐더러 가장 빠른 differentiation 방법을 제공합니다."
   ]
  },
  {
   "cell_type": "code",
   "execution_count": 4,
   "id": "f5ff200e",
   "metadata": {},
   "outputs": [],
   "source": [
    "NUMBER_OF_WIRES = 20\n",
    "dev = qml.device(\"default.qubit\", wires=NUMBER_OF_WIRES, shots=3000) # device 정의"
   ]
  },
  {
   "cell_type": "markdown",
   "id": "9d207eab",
   "metadata": {},
   "source": [
    "## 측정\n",
    "- `qml.probs` : 개별 state들의 측정 확률 벡터입니다. $N$ qubit에 대해 $2^N$개의 확률을 반환합니다.\n",
    "- `qml.expval` : Pennylane의 Observable들을 측정합니다. 기초적으로 `qml.PauliZ(i)`, `qml.PauliX(i)`, `qml.PauliY(i)` 등의 Pauli 연산자를 사용합니다. 이 외에도 다양한 Observable를 지원합니다."
   ]
  },
  {
   "cell_type": "code",
   "execution_count": 5,
   "id": "da5f61b3",
   "metadata": {},
   "outputs": [],
   "source": [
    "dev_3 = qml.device(\"default.qubit\", wires=3) # device 정의\n",
    "\n",
    "@qml.qnode(dev_3) # QNode 데코레이터로 양자 회로 정의\n",
    "def circuit1():\n",
    "    qml.H(0)\n",
    "    qml.H(1)\n",
    "    return qml.expval(qml.PauliX(0))\n",
    "\n",
    "@qml.qnode(dev_3)\n",
    "def circuit2():\n",
    "    qml.H(0)\n",
    "    qml.H(1)\n",
    "    return qml.probs()\n",
    "\n",
    "@qml.qnode(dev_3)\n",
    "def circuit3():\n",
    "    qml.H(0)\n",
    "    qml.H(1)\n",
    "    return [qml.expval(qml.PauliZ(i)) for i in range(3)]\n"
   ]
  },
  {
   "cell_type": "markdown",
   "id": "fcf44dda",
   "metadata": {},
   "source": [
    "$$<\\psi|H|\\psi>$$"
   ]
  },
  {
   "cell_type": "code",
   "execution_count": 7,
   "id": "75a42e9d",
   "metadata": {},
   "outputs": [
    {
     "data": {
      "text/plain": [
       "np.float64(0.9999999999999996)"
      ]
     },
     "execution_count": 7,
     "metadata": {},
     "output_type": "execute_result"
    }
   ],
   "source": [
    "circuit1()"
   ]
  },
  {
   "cell_type": "code",
   "execution_count": 8,
   "id": "94fb5304",
   "metadata": {},
   "outputs": [
    {
     "data": {
      "text/plain": [
       "array([0.25, 0.  , 0.25, 0.  , 0.25, 0.  , 0.25, 0.  ])"
      ]
     },
     "execution_count": 8,
     "metadata": {},
     "output_type": "execute_result"
    }
   ],
   "source": [
    "circuit2()"
   ]
  },
  {
   "cell_type": "code",
   "execution_count": 9,
   "id": "d3dd1071",
   "metadata": {},
   "outputs": [
    {
     "data": {
      "text/plain": [
       "[np.float64(0.0), np.float64(0.0), np.float64(0.9999999999999996)]"
      ]
     },
     "execution_count": 9,
     "metadata": {},
     "output_type": "execute_result"
    }
   ],
   "source": [
    "circuit3()"
   ]
  },
  {
   "cell_type": "code",
   "execution_count": 10,
   "id": "f9ced0c0",
   "metadata": {},
   "outputs": [
    {
     "data": {
      "text/plain": [
       "Z(0) @ X(1)"
      ]
     },
     "execution_count": 10,
     "metadata": {},
     "output_type": "execute_result"
    }
   ],
   "source": [
    "obs =qml.PauliZ(0) @ qml.PauliX(1)\n",
    "obs"
   ]
  },
  {
   "cell_type": "code",
   "execution_count": 11,
   "id": "d667b4cc",
   "metadata": {},
   "outputs": [],
   "source": [
    "@qml.qnode(dev_3)\n",
    "def circuit4():\n",
    "    qml.H(0)\n",
    "    qml.H(1)\n",
    "    qml.H(2)\n",
    "    return qml.expval(obs)"
   ]
  },
  {
   "cell_type": "code",
   "execution_count": 12,
   "id": "c5b45dfd",
   "metadata": {},
   "outputs": [
    {
     "data": {
      "text/plain": [
       "np.float64(0.0)"
      ]
     },
     "execution_count": 12,
     "metadata": {},
     "output_type": "execute_result"
    }
   ],
   "source": [
    "circuit4()"
   ]
  },
  {
   "cell_type": "markdown",
   "id": "fe5bc78d",
   "metadata": {},
   "source": [
    "## 양자 회로의 설계"
   ]
  },
  {
   "cell_type": "code",
   "execution_count": 14,
   "id": "8214dd34",
   "metadata": {},
   "outputs": [],
   "source": [
    "from pennylane import numpy as np_p"
   ]
  },
  {
   "cell_type": "code",
   "execution_count": 15,
   "id": "41957fc1",
   "metadata": {},
   "outputs": [],
   "source": [
    "dev = qml.device(\"default.qubit\", wires=1) # device 정의\n",
    "\n",
    "@qml.qnode(dev) # QNode 데코레이터로 양자 회로 정의\n",
    "def single_qubit_circuit(theta, input_value):\n",
    "    qml.RX(theta, wires=0)\n",
    "    qml.RY(input_value, wires=0)\n",
    "    return qml.expval(qml.PauliZ(0))"
   ]
  },
  {
   "cell_type": "code",
   "execution_count": 16,
   "id": "b2fca6b7",
   "metadata": {},
   "outputs": [
    {
     "data": {
      "text/plain": [
       "np.float64(0.9751703272018161)"
      ]
     },
     "execution_count": 16,
     "metadata": {},
     "output_type": "execute_result"
    }
   ],
   "source": [
    "single_qubit_circuit(0.1, 0.2)"
   ]
  },
  {
   "cell_type": "code",
   "execution_count": null,
   "id": "5fadd37c",
   "metadata": {},
   "outputs": [],
   "source": []
  }
 ],
 "metadata": {
  "kernelspec": {
   "display_name": ".venv",
   "language": "python",
   "name": "python3"
  },
  "language_info": {
   "codemirror_mode": {
    "name": "ipython",
    "version": 3
   },
   "file_extension": ".py",
   "mimetype": "text/x-python",
   "name": "python",
   "nbconvert_exporter": "python",
   "pygments_lexer": "ipython3",
   "version": "3.12.2"
  }
 },
 "nbformat": 4,
 "nbformat_minor": 5
}
