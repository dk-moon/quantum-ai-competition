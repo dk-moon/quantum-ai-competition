{
 "cells": [
  {
   "cell_type": "markdown",
   "id": "b50598e9",
   "metadata": {},
   "source": [
    "> Norma Quantum AI Competition Tutorial Source"
   ]
  },
  {
   "cell_type": "markdown",
   "id": "f90c34c6",
   "metadata": {},
   "source": [
    "# Quantum Machine Learning Guide\n",
    "\n",
    "> 양자 컴퓨팅 프레임워크에 대한 개략적인 소개와 QML의 구현 방법을 제공합니다.\n",
    "\n",
    "일반적으로 2개의 주요 양자 컴퓨팅 프레임워크가 있습니다:\n",
    "1. **Pennylane**: 양자 머신러닝에 중점을 둔 프레임워크로, 다양한 양자 하드웨어 백엔드를 지원합니다.\n",
    "2. **Qiskit**: IBM에서 개발한 프레임워크로, 좀 더 물리적인 실험과 대규모 HPC(High Performance Computing) 연산을 포함하는 통합적인 프레임워크를 제공합니다.\n",
    "\n",
    "여기에서는 QML 구현을 위해 Pennylane을 사용합니다."
   ]
  },
  {
   "cell_type": "code",
   "execution_count": null,
   "id": "94d6a62b",
   "metadata": {},
   "outputs": [],
   "source": [
    "# 사용할 라이브러리 설치\n",
    "#!pip install pennylane torch torchvision"
   ]
  },
  {
   "cell_type": "markdown",
   "id": "426d6e00",
   "metadata": {},
   "source": [
    "## 양자 회로 설계하기"
   ]
  },
  {
   "cell_type": "code",
   "execution_count": 1,
   "id": "c6c6a3b3",
   "metadata": {},
   "outputs": [],
   "source": [
    "import pennylane as qml\n",
    "import numpy as np\n",
    "\n",
    "dev = qml.device(\"default.qubit\", wires=3) # device 정의\n",
    "\n",
    "@qml.qnode(dev) # QNode 데코레이터로 양자 회로 정의\n",
    "def circuit():\n",
    "    qml.H(0)\n",
    "    qml.S(0)\n",
    "    qml.RX(0.32, wires=0)\n",
    "    qml.H(2)\n",
    "    return qml.probs()"
   ]
  },
  {
   "cell_type": "markdown",
   "id": "f856f344",
   "metadata": {},
   "source": [
    "## 양자 회로 그리기"
   ]
  },
  {
   "cell_type": "code",
   "execution_count": 2,
   "id": "957ee03b",
   "metadata": {},
   "outputs": [
    {
     "name": "stdout",
     "output_type": "stream",
     "text": [
      "0: ──H──S──RX(0.32)─┤  Probs\n",
      "2: ──H──────────────┤  Probs\n"
     ]
    }
   ],
   "source": [
    "print(qml.draw(circuit)()) # 양자 회로 그리기"
   ]
  },
  {
   "cell_type": "code",
   "execution_count": 3,
   "id": "4cca7199",
   "metadata": {},
   "outputs": [
    {
     "data": {
      "text/plain": [
       "(<Figure size 600x300 with 1 Axes>, <Axes: >)"
      ]
     },
     "execution_count": 3,
     "metadata": {},
     "output_type": "execute_result"
    },
    {
     "data": {
      "image/png": "[encoded data removed]",
      "text/plain": [
       "<Figure size 600x300 with 1 Axes>"
      ]
     },
     "metadata": {},
     "output_type": "display_data"
    }
   ],
   "source": [
    "qml.draw_mpl(circuit)()"
   ]
  },
  {
   "cell_type": "markdown",
   "id": "c3ebaa49",
   "metadata": {},
   "source": [
    "|양자 회로|ML|\n",
    "|:---:|:---:|\n",
    "|Quantum Circuit|Layer, ML Module|\n",
    "|Backend|device(CPU, CUDA, ...)|"
   ]
  },
  {
   "cell_type": "markdown",
   "id": "7dbae611",
   "metadata": {},
   "source": [
    "## Backend\n",
    "\n",
    "Backend는 실제 양자 회로를 구동하는 시뮬레이터, 혹은 양자 컴퓨터입니다.\n",
    "한 개의 회로를 어느 기기에서 구동할 지 미리 선언을 해주어야 합니다.\n",
    "\n",
    "**Backend 선택**\n",
    "다양한 Backend를 양자 회로를 구동하는데 사용할 수 있습니다. Pennylane의 `default.qubit`, `lighting.qubit` 등 뿐만 아니라, Qiskit, IQM 등 실제 양자 컴퓨터의 Backend interface를 가져와 사용할 수도 있습니다.\n",
    "\n",
    "그러나, QML을 구현하고 시험해 볼 때는 `default.qubit`이 권장됩니다. 다른 ML 프레임워크와의 결합도 간편할 뿐더러 가장 빠른 differentiation 방법을 제공합니다."
   ]
  },
  {
   "cell_type": "code",
   "execution_count": 4,
   "id": "f5ff200e",
   "metadata": {},
   "outputs": [],
   "source": [
    "NUMBER_OF_WIRES = 20\n",
    "dev = qml.device(\"default.qubit\", wires=NUMBER_OF_WIRES, shots=3000) # device 정의"
   ]
  },
  {
   "cell_type": "markdown",
   "id": "9d207eab",
   "metadata": {},
   "source": [
    "## 측정\n",
    "- `qml.probs` : 개별 state들의 측정 확률 벡터입니다. $N$ qubit에 대해 $2^N$개의 확률을 반환합니다.\n",
    "- `qml.expval` : Pennylane의 Observable들을 측정합니다. 기초적으로 `qml.PauliZ(i)`, `qml.PauliX(i)`, `qml.PauliY(i)` 등의 Pauli 연산자를 사용합니다. 이 외에도 다양한 Observable를 지원합니다."
   ]
  },
  {
   "cell_type": "code",
   "execution_count": 5,
   "id": "da5f61b3",
   "metadata": {},
   "outputs": [],
   "source": [
    "dev_3 = qml.device(\"default.qubit\", wires=3) # device 정의\n",
    "\n",
    "@qml.qnode(dev_3) # QNode 데코레이터로 양자 회로 정의\n",
    "def circuit1():\n",
    "    qml.H(0)\n",
    "    qml.H(1)\n",
    "    return qml.expval(qml.PauliX(0))\n",
    "\n",
    "@qml.qnode(dev_3)\n",
    "def circuit2():\n",
    "    qml.H(0)\n",
    "    qml.H(1)\n",
    "    return qml.probs()\n",
    "\n",
    "@qml.qnode(dev_3)\n",
    "def circuit3():\n",
    "    qml.H(0)\n",
    "    qml.H(1)\n",
    "    return [qml.expval(qml.PauliZ(i)) for i in range(3)]\n"
   ]
  },
  {
   "cell_type": "markdown",
   "id": "fcf44dda",
   "metadata": {},
   "source": [
    "$$<\\psi|H|\\psi>$$"
   ]
  },
  {
   "cell_type": "code",
   "execution_count": 7,
   "id": "75a42e9d",
   "metadata": {},
   "outputs": [
    {
     "data": {
      "text/plain": [
       "np.float64(0.9999999999999996)"
      ]
     },
     "execution_count": 7,
     "metadata": {},
     "output_type": "execute_result"
    }
   ],
   "source": [
    "circuit1()"
   ]
  },
  {
   "cell_type": "code",
   "execution_count": 8,
   "id": "94fb5304",
   "metadata": {},
   "outputs": [
    {
     "data": {
      "text/plain": [
       "array([0.25, 0.  , 0.25, 0.  , 0.25, 0.  , 0.25, 0.  ])"
      ]
     },
     "execution_count": 8,
     "metadata": {},
     "output_type": "execute_result"
    }
   ],
   "source": [
    "circuit2()"
   ]
  },
  {
   "cell_type": "code",
   "execution_count": 9,
   "id": "d3dd1071",
   "metadata": {},
   "outputs": [
    {
     "data": {
      "text/plain": [
       "[np.float64(0.0), np.float64(0.0), np.float64(0.9999999999999996)]"
      ]
     },
     "execution_count": 9,
     "metadata": {},
     "output_type": "execute_result"
    }
   ],
   "source": [
    "circuit3()"
   ]
  },
  {
   "cell_type": "code",
   "execution_count": 10,
   "id": "f9ced0c0",
   "metadata": {},
   "outputs": [
    {
     "data": {
      "text/plain": [
       "Z(0) @ X(1)"
      ]
     },
     "execution_count": 10,
     "metadata": {},
     "output_type": "execute_result"
    }
   ],
   "source": [
    "obs =qml.PauliZ(0) @ qml.PauliX(1)\n",
    "obs"
   ]
  },
  {
   "cell_type": "code",
   "execution_count": 11,
   "id": "d667b4cc",
   "metadata": {},
   "outputs": [],
   "source": [
    "@qml.qnode(dev_3)\n",
    "def circuit4():\n",
    "    qml.H(0)\n",
    "    qml.H(1)\n",
    "    qml.H(2)\n",
    "    return qml.expval(obs)"
   ]
  },
  {
   "cell_type": "code",
   "execution_count": 12,
   "id": "c5b45dfd",
   "metadata": {},
   "outputs": [
    {
     "data": {
      "text/plain": [
       "np.float64(0.0)"
      ]
     },
     "execution_count": 12,
     "metadata": {},
     "output_type": "execute_result"
    }
   ],
   "source": [
    "circuit4()"
   ]
  },
  {
   "cell_type": "markdown",
   "id": "fe5bc78d",
   "metadata": {},
   "source": [
    "## 양자 회로의 설계"
   ]
  },
  {
   "cell_type": "code",
   "execution_count": 14,
   "id": "8214dd34",
   "metadata": {},
   "outputs": [],
   "source": [
    "from pennylane import numpy as np_p"
   ]
  },
  {
   "cell_type": "code",
   "execution_count": 15,
   "id": "41957fc1",
   "metadata": {},
   "outputs": [],
   "source": [
    "dev = qml.device(\"default.qubit\", wires=1) # device 정의\n",
    "\n",
    "@qml.qnode(dev) # QNode 데코레이터로 양자 회로 정의\n",
    "def single_qubit_circuit(theta, input_value):\n",
    "    qml.RX(theta, wires=0)\n",
    "    qml.RY(input_value, wires=0)\n",
    "    return qml.expval(qml.PauliZ(0))"
   ]
  },
  {
   "cell_type": "code",
   "execution_count": 16,
   "id": "b2fca6b7",
   "metadata": {},
   "outputs": [
    {
     "data": {
      "text/plain": [
       "np.float64(0.9751703272018161)"
      ]
     },
     "execution_count": 16,
     "metadata": {},
     "output_type": "execute_result"
    }
   ],
   "source": [
    "single_qubit_circuit(0.1, 0.2)"
   ]
  },
  {
   "cell_type": "code",
   "execution_count": 19,
   "id": "5fadd37c",
   "metadata": {},
   "outputs": [],
   "source": [
    "theta = 0.032\n",
    "theta_b = np_p.array([0.2, 0.3, 0.5])\n",
    "input_value_b = np_p.array([3.2, 1.2, 0.1])"
   ]
  },
  {
   "cell_type": "code",
   "execution_count": 18,
   "id": "5fd7e6e2",
   "metadata": {},
   "outputs": [
    {
     "data": {
      "text/plain": [
       "tensor([-0.97839534,  0.34617358,  0.8731983 ], requires_grad=True)"
      ]
     },
     "execution_count": 18,
     "metadata": {},
     "output_type": "execute_result"
    }
   ],
   "source": [
    "single_qubit_circuit(theta_b, input_value)"
   ]
  },
  {
   "cell_type": "markdown",
   "id": "006d84f8",
   "metadata": {},
   "source": [
    "### Pennylane Optimizer"
   ]
  },
  {
   "cell_type": "code",
   "execution_count": 20,
   "id": "2007d7cc",
   "metadata": {},
   "outputs": [],
   "source": [
    "opt = qml.GradientDescentOptimizer(stepsize=0.01)\n",
    "max_iterations = 500\n",
    "conv_tol = 1e-06\n",
    "param = np_p.random.rand(1, requires_grad=True)  # 초기 파라미터 설정\n",
    "\n",
    "his_param = []\n",
    "his_energy = []\n",
    "for i in range(max_iterations):\n",
    "    param, prev_energy = opt.step_and_cost(lambda x: single_qubit_circuit(x, input_value_b[0]), param)\n",
    "    his_param.append(param)\n",
    "    his_energy.append(prev_energy)\n",
    "    energy = single_qubit_circuit(param, input_value_b[0])\n",
    "    conv = np_p.abs(prev_energy - energy)\n",
    "    if conv <= conv_tol:\n",
    "        break"
   ]
  },
  {
   "cell_type": "code",
   "execution_count": 21,
   "id": "80a09823",
   "metadata": {},
   "outputs": [],
   "source": [
    "import matplotlib.pyplot as plt"
   ]
  },
  {
   "cell_type": "code",
   "execution_count": 22,
   "id": "6534f409",
   "metadata": {},
   "outputs": [
    {
     "data": {
      "text/plain": [
       "[<matplotlib.lines.Line2D at 0x110273260>]"
      ]
     },
     "execution_count": 22,
     "metadata": {},
     "output_type": "execute_result"
    },
    {
     "data": {
      "image/png": "[encoded data removed]",
      "text/plain": [
       "<Figure size 640x480 with 1 Axes>"
      ]
     },
     "metadata": {},
     "output_type": "display_data"
    }
   ],
   "source": [
    "plt.plot(his_energy, label='Energy')"
   ]
  },
  {
   "cell_type": "markdown",
   "id": "7ea329f7",
   "metadata": {},
   "source": [
    "### Torch Optimizer"
   ]
  },
  {
   "cell_type": "code",
   "execution_count": 23,
   "id": "f63a4215",
   "metadata": {},
   "outputs": [],
   "source": [
    "import torch\n",
    "from torch.optim import Adam\n",
    "from torch.nn.parameter import Parameter\n",
    "from torch.nn import NLLLoss"
   ]
  },
  {
   "cell_type": "code",
   "execution_count": 24,
   "id": "cc4cd476",
   "metadata": {},
   "outputs": [
    {
     "data": {
      "text/plain": [
       "tensor([0.9540, 0.7337, 0.6277, 0.8131], dtype=torch.float64)"
      ]
     },
     "execution_count": 24,
     "metadata": {},
     "output_type": "execute_result"
    }
   ],
   "source": [
    "torch_theta = torch.rand(4)\n",
    "torch_phi = torch.rand(4)\n",
    "single_qubit_circuit(torch_theta, torch_phi)"
   ]
  },
  {
   "cell_type": "code",
   "execution_count": 25,
   "id": "c29d1983",
   "metadata": {},
   "outputs": [
    {
     "data": {
      "text/plain": [
       "Parameter containing:\n",
       "tensor(0.9929, requires_grad=True)"
      ]
     },
     "execution_count": 25,
     "metadata": {},
     "output_type": "execute_result"
    }
   ],
   "source": [
    "parameter = Parameter(torch.tensor(torch.rand(1).item(), requires_grad=True))\n",
    "parameter"
   ]
  },
  {
   "cell_type": "code",
   "execution_count": 26,
   "id": "d59e1ed6",
   "metadata": {},
   "outputs": [],
   "source": [
    "optim = Adam([parameter], lr=0.001)"
   ]
  },
  {
   "cell_type": "code",
   "execution_count": 27,
   "id": "746dfb1a",
   "metadata": {},
   "outputs": [],
   "source": [
    "input_data = torch.rand(1)\n",
    "history_e = []\n",
    "for i in range(1000):\n",
    "    optim.zero_grad()\n",
    "    result = single_qubit_circuit(input_data,parameter)+1\n",
    "    loss = (result)\n",
    "    loss.backward()\n",
    "    history_e.append(result.item())\n",
    "    optim.step()"
   ]
  },
  {
   "cell_type": "code",
   "execution_count": 28,
   "id": "a3bacc8b",
   "metadata": {},
   "outputs": [
    {
     "data": {
      "text/plain": [
       "[<matplotlib.lines.Line2D at 0x126e5bc20>]"
      ]
     },
     "execution_count": 28,
     "metadata": {},
     "output_type": "execute_result"
    },
    {
     "data": {
      "image/png": "[encoded data removed]",
      "text/plain": [
       "<Figure size 640x480 with 1 Axes>"
      ]
     },
     "metadata": {},
     "output_type": "display_data"
    }
   ],
   "source": [
    "plt.plot(history_e, label='Energy')"
   ]
  },
  {
   "cell_type": "markdown",
   "id": "e9b2a737",
   "metadata": {},
   "source": [
    "## 분류 모델 만들기"
   ]
  },
  {
   "cell_type": "markdown",
   "id": "2f6df34c",
   "metadata": {},
   "source": [
    "### 0-1 binary classfiers"
   ]
  },
  {
   "cell_type": "markdown",
   "id": "01268d26",
   "metadata": {},
   "source": [
    "#### MNIST dataset"
   ]
  },
  {
   "cell_type": "code",
   "execution_count": 29,
   "id": "4a9e8af6",
   "metadata": {},
   "outputs": [],
   "source": [
    "import torch\n",
    "from torch.utils.data import Subset, DataLoader\n",
    "import torchvision"
   ]
  },
  {
   "cell_type": "code",
   "execution_count": 30,
   "id": "d1ba950b",
   "metadata": {},
   "outputs": [
    {
     "name": "stderr",
     "output_type": "stream",
     "text": [
      "100.0%\n",
      "100.0%\n",
      "100.0%\n",
      "100.0%\n"
     ]
    }
   ],
   "source": [
    "transform = torchvision.transforms.Compose([\n",
    "    torchvision.transforms.ToTensor(),\n",
    "    torchvision.transforms.Normalize((0.1307,), (0.3081,))\n",
    "])\n",
    "train_dataset = torchvision.datasets.MNIST(\"./\", train=True, download=True, transform=transform)\n",
    "test_dataset = torchvision.datasets.MNIST(\"./\", train=False, download=True, transform=transform)"
   ]
  },
  {
   "cell_type": "code",
   "execution_count": 31,
   "id": "a037e6ac",
   "metadata": {},
   "outputs": [],
   "source": [
    "t_target = train_dataset.targets\n",
    "test_target = test_dataset.targets"
   ]
  },
  {
   "cell_type": "code",
   "execution_count": 32,
   "id": "02f9ccd3",
   "metadata": {},
   "outputs": [],
   "source": [
    "t_mask = (t_target == 0) | (t_target == 1)\n",
    "t_indices = torch.where(t_mask)[0]\n",
    "zero_one_dataset_train = Subset(train_dataset, t_indices)\n",
    "\n",
    "test_mask = (test_target == 0) | (test_target == 1)\n",
    "test_indices = torch.where(test_mask)[0]\n",
    "zero_one_dataset_test = Subset(test_dataset, test_indices)"
   ]
  },
  {
   "cell_type": "code",
   "execution_count": 33,
   "id": "ce05e093",
   "metadata": {},
   "outputs": [],
   "source": [
    "train_loader = DataLoader(zero_one_dataset_train, batch_size=64, shuffle=True)\n",
    "test_loader = DataLoader(zero_one_dataset_test, batch_size=64, shuffle=False)"
   ]
  },
  {
   "cell_type": "code",
   "execution_count": 34,
   "id": "e990ae02",
   "metadata": {},
   "outputs": [],
   "source": [
    "from matplotlib import pyplot as plt"
   ]
  },
  {
   "cell_type": "code",
   "execution_count": 35,
   "id": "7f0bcae6",
   "metadata": {},
   "outputs": [
    {
     "data": {
      "text/plain": [
       "<matplotlib.image.AxesImage at 0x1271abb90>"
      ]
     },
     "execution_count": 35,
     "metadata": {},
     "output_type": "execute_result"
    },
    {
     "data": {
      "image/png": "[encoded data removed]",
      "text/plain": [
       "<Figure size 640x480 with 1 Axes>"
      ]
     },
     "metadata": {},
     "output_type": "display_data"
    }
   ],
   "source": [
    "plt.imshow(zero_one_dataset_train[20][0][0], cmap='gray')"
   ]
  },
  {
   "cell_type": "code",
   "execution_count": 36,
   "id": "dd0ce095",
   "metadata": {},
   "outputs": [
    {
     "data": {
      "image/png": "[encoded data removed]",
      "text/plain": [
       "<Figure size 1000x300 with 6 Axes>"
      ]
     },
     "metadata": {},
     "output_type": "display_data"
    }
   ],
   "source": [
    "n_samples_show = 6\n",
    "data_iter = iter(train_loader)\n",
    "fig, axes = plt.subplots(nrows=1, ncols=n_samples_show, figsize=(10, 3))\n",
    "\n",
    "while n_samples_show > 0:\n",
    "    images, targets = data_iter.__next__()\n",
    "    \n",
    "    axes[n_samples_show - 1].imshow(images[0][0].numpy().squeeze(), cmap='gray')\n",
    "    axes[n_samples_show - 1].set_xticks([])\n",
    "    axes[n_samples_show - 1].set_yticks([])\n",
    "    axes[n_samples_show - 1].set_title(f\"Label: {targets[0].item()}\")\n",
    "    \n",
    "    n_samples_show -= 1"
   ]
  },
  {
   "cell_type": "code",
   "execution_count": 37,
   "id": "a753fa77",
   "metadata": {},
   "outputs": [],
   "source": [
    "from torch.nn import Module, Conv2d, Dropout2d, Linear\n",
    "import torch.nn.functional as F\n",
    "from torch import cat"
   ]
  },
  {
   "cell_type": "code",
   "execution_count": 38,
   "id": "561348d1",
   "metadata": {},
   "outputs": [],
   "source": [
    "torch.set_default_dtype(torch.float64)\n",
    "class BinaryClassifier(Module):\n",
    "    def __init__(self):\n",
    "        super(BinaryClassifier, self).__init__()\n",
    "        self.conv1 = Conv2d(1, 2, kernel_size=5)\n",
    "        self.conv2 = Conv2d(2, 16, kernel_size=5)\n",
    "        self.dropout = Dropout2d()\n",
    "        self.fc1 = Linear(256, 64)\n",
    "        self.fc2 = Linear(64, 2)\n",
    "        self.fc3 = Linear(1,1)\n",
    "        \n",
    "        # Quantum layer\n",
    "        self.q_device = qml.device(\"default.qubit\", wires=2)\n",
    "        self.qnn_params = Parameter(torch.rand(8), requires_grad=True)\n",
    "        self.obs = qml.PauliZ(0) @ qml.PauliX(1)\n",
    "        \n",
    "        @qml.qnode(self.q_device)\n",
    "        def circuit(x):\n",
    "            if len(x.shape) == 1:\n",
    "                x = x.unsqueeze(0)\n",
    "            qml.H(wires=0)\n",
    "            qml.H(wires=1)\n",
    "            \n",
    "            qml.RZ(2.*x[:,0], wires=0)\n",
    "            qml.RX(2.*x[:,1], wires=0)\n",
    "            \n",
    "            qml.CNOT(wires=[0,1])\n",
    "            qml.RZ(2.*(torch.pi - x[:,0])*(torch.pi - x[:,1]), wires=1)\n",
    "            #----\n",
    "            qml.RY(2.*self.qnn_params[0], wires=0)\n",
    "            qml.RY(2.*self.qnn_params[1], wires=1)\n",
    "            qml.CNOT(wires=[0,1])\n",
    "            qml.RY(2.*self.qnn_params[2], wires=0)\n",
    "            qml.RY(2.*self.qnn_params[3], wires=1)\n",
    "            qml.CNOT(wires=[0,1])\n",
    "            qml.RY(2.*self.qnn_params[4], wires=0)\n",
    "            qml.RY(2.*self.qnn_params[5], wires=1)\n",
    "            qml.CNOT(wires=[0,1])\n",
    "            qml.RY(2.*self.qnn_params[6], wires=0)\n",
    "            qml.RY(2.*self.qnn_params[7], wires=1)\n",
    "            return qml.expval(self.obs)\n",
    "\n",
    "        self.qnn = circuit\n",
    "        \n",
    "    def forward(self, x):\n",
    "        x = F.relu(self.conv1(x))\n",
    "        x = F.max_pool2d(x, 2)\n",
    "        x = F.relu(self.conv2(x))\n",
    "        x = F.max_pool2d(x, 2)\n",
    "        x = self.dropout(x)\n",
    "        x = x.view(x.shape[0], -1)\n",
    "        x = F.relu(self.fc1(x))\n",
    "        x = self.fc2(x)\n",
    "        x = self.qnn(x).unsqueeze(1)\n",
    "        \n",
    "        x = self.fc3(x)\n",
    "        return F.log_softmax(cat((x, 1-x), -1), -1)"
   ]
  },
  {
   "cell_type": "code",
   "execution_count": 39,
   "id": "e6e21887",
   "metadata": {},
   "outputs": [
    {
     "data": {
      "text/plain": [
       "torch.Size([2])"
      ]
     },
     "execution_count": 39,
     "metadata": {},
     "output_type": "execute_result"
    }
   ],
   "source": [
    "torch.tensor([0,1]).shape"
   ]
  },
  {
   "cell_type": "code",
   "execution_count": 40,
   "id": "567a05e0",
   "metadata": {},
   "outputs": [],
   "source": [
    "bc = BinaryClassifier()"
   ]
  },
  {
   "cell_type": "code",
   "execution_count": 44,
   "id": "d7e1eea1",
   "metadata": {},
   "outputs": [
    {
     "data": {
      "text/plain": [
       "BinaryClassifier(\n",
       "  (conv1): Conv2d(1, 2, kernel_size=(5, 5), stride=(1, 1))\n",
       "  (conv2): Conv2d(2, 16, kernel_size=(5, 5), stride=(1, 1))\n",
       "  (dropout): Dropout2d(p=0.5, inplace=False)\n",
       "  (fc1): Linear(in_features=256, out_features=64, bias=True)\n",
       "  (fc2): Linear(in_features=64, out_features=2, bias=True)\n",
       "  (fc3): Linear(in_features=1, out_features=1, bias=True)\n",
       ")"
      ]
     },
     "execution_count": 44,
     "metadata": {},
     "output_type": "execute_result"
    }
   ],
   "source": [
    "optimizer = Adam(bc.parameters(), lr=0.001)\n",
    "loss_fn = NLLLoss()\n",
    "\n",
    "epochs = 20\n",
    "loss_history = []\n",
    "bc.train()"
   ]
  },
  {
   "cell_type": "code",
   "execution_count": 45,
   "id": "b3b0b686",
   "metadata": {},
   "outputs": [
    {
     "data": {
      "text/plain": [
       "torch.Size([64, 1, 28, 28])"
      ]
     },
     "execution_count": 45,
     "metadata": {},
     "output_type": "execute_result"
    }
   ],
   "source": [
    "data.shape"
   ]
  },
  {
   "cell_type": "code",
   "execution_count": 50,
   "id": "8045375c",
   "metadata": {},
   "outputs": [
    {
     "name": "stderr",
     "output_type": "stream",
     "text": [
      "/Users/dkmoon/Desktop/StudySpace/QuantumComputing/Source/quantum-ai-competition/.venv/lib/python3.12/site-packages/tqdm/auto.py:21: TqdmWarning: IProgress not found. Please update jupyter and ipywidgets. See https://ipywidgets.readthedocs.io/en/stable/user_install.html\n",
      "  from .autonotebook import tqdm as notebook_tqdm\n",
      "198it [00:02, 95.11it/s]\n"
     ]
    },
    {
     "name": "stdout",
     "output_type": "stream",
     "text": [
      "Training [5%]\tLoss : 0.6996\n"
     ]
    },
    {
     "name": "stderr",
     "output_type": "stream",
     "text": [
      "198it [00:02, 87.64it/s]\n"
     ]
    },
    {
     "name": "stdout",
     "output_type": "stream",
     "text": [
      "Training [10%]\tLoss : 0.4585\n"
     ]
    },
    {
     "name": "stderr",
     "output_type": "stream",
     "text": [
      "198it [00:02, 96.02it/s]\n"
     ]
    },
    {
     "name": "stdout",
     "output_type": "stream",
     "text": [
      "Training [15%]\tLoss : 0.3130\n"
     ]
    },
    {
     "name": "stderr",
     "output_type": "stream",
     "text": [
      "198it [00:02, 82.74it/s]\n"
     ]
    },
    {
     "name": "stdout",
     "output_type": "stream",
     "text": [
      "Training [20%]\tLoss : 0.2251\n"
     ]
    },
    {
     "name": "stderr",
     "output_type": "stream",
     "text": [
      "198it [00:02, 93.83it/s]\n"
     ]
    },
    {
     "name": "stdout",
     "output_type": "stream",
     "text": [
      "Training [25%]\tLoss : 0.1705\n"
     ]
    },
    {
     "name": "stderr",
     "output_type": "stream",
     "text": [
      "198it [00:02, 98.37it/s] \n"
     ]
    },
    {
     "name": "stdout",
     "output_type": "stream",
     "text": [
      "Training [30%]\tLoss : 0.1342\n"
     ]
    },
    {
     "name": "stderr",
     "output_type": "stream",
     "text": [
      "198it [00:02, 89.62it/s]\n"
     ]
    },
    {
     "name": "stdout",
     "output_type": "stream",
     "text": [
      "Training [35%]\tLoss : 0.1088\n"
     ]
    },
    {
     "name": "stderr",
     "output_type": "stream",
     "text": [
      "198it [00:02, 98.41it/s] \n"
     ]
    },
    {
     "name": "stdout",
     "output_type": "stream",
     "text": [
      "Training [40%]\tLoss : 0.0901\n"
     ]
    },
    {
     "name": "stderr",
     "output_type": "stream",
     "text": [
      "198it [00:02, 84.17it/s]\n"
     ]
    },
    {
     "name": "stdout",
     "output_type": "stream",
     "text": [
      "Training [45%]\tLoss : 0.0759\n"
     ]
    },
    {
     "name": "stderr",
     "output_type": "stream",
     "text": [
      "198it [00:02, 92.83it/s]\n"
     ]
    },
    {
     "name": "stdout",
     "output_type": "stream",
     "text": [
      "Training [50%]\tLoss : 0.0649\n"
     ]
    },
    {
     "name": "stderr",
     "output_type": "stream",
     "text": [
      "198it [00:02, 77.70it/s]\n"
     ]
    },
    {
     "name": "stdout",
     "output_type": "stream",
     "text": [
      "Training [55%]\tLoss : 0.0556\n"
     ]
    },
    {
     "name": "stderr",
     "output_type": "stream",
     "text": [
      "198it [00:02, 90.81it/s]\n"
     ]
    },
    {
     "name": "stdout",
     "output_type": "stream",
     "text": [
      "Training [60%]\tLoss : 0.0489\n"
     ]
    },
    {
     "name": "stderr",
     "output_type": "stream",
     "text": [
      "198it [00:02, 93.74it/s]\n"
     ]
    },
    {
     "name": "stdout",
     "output_type": "stream",
     "text": [
      "Training [65%]\tLoss : 0.0420\n"
     ]
    },
    {
     "name": "stderr",
     "output_type": "stream",
     "text": [
      "198it [00:02, 94.65it/s]\n"
     ]
    },
    {
     "name": "stdout",
     "output_type": "stream",
     "text": [
      "Training [70%]\tLoss : 0.0375\n"
     ]
    },
    {
     "name": "stderr",
     "output_type": "stream",
     "text": [
      "198it [00:01, 99.25it/s] \n"
     ]
    },
    {
     "name": "stdout",
     "output_type": "stream",
     "text": [
      "Training [75%]\tLoss : 0.0329\n"
     ]
    },
    {
     "name": "stderr",
     "output_type": "stream",
     "text": [
      "198it [00:02, 98.10it/s]\n"
     ]
    },
    {
     "name": "stdout",
     "output_type": "stream",
     "text": [
      "Training [80%]\tLoss : 0.0299\n"
     ]
    },
    {
     "name": "stderr",
     "output_type": "stream",
     "text": [
      "198it [00:02, 97.68it/s] \n"
     ]
    },
    {
     "name": "stdout",
     "output_type": "stream",
     "text": [
      "Training [85%]\tLoss : 0.0262\n"
     ]
    },
    {
     "name": "stderr",
     "output_type": "stream",
     "text": [
      "198it [00:02, 96.91it/s]\n"
     ]
    },
    {
     "name": "stdout",
     "output_type": "stream",
     "text": [
      "Training [90%]\tLoss : 0.0225\n"
     ]
    },
    {
     "name": "stderr",
     "output_type": "stream",
     "text": [
      "198it [00:02, 95.85it/s]\n"
     ]
    },
    {
     "name": "stdout",
     "output_type": "stream",
     "text": [
      "Training [95%]\tLoss : 0.0208\n"
     ]
    },
    {
     "name": "stderr",
     "output_type": "stream",
     "text": [
      "198it [00:02, 98.53it/s] "
     ]
    },
    {
     "name": "stdout",
     "output_type": "stream",
     "text": [
      "Training [100%]\tLoss : 0.0187\n"
     ]
    },
    {
     "name": "stderr",
     "output_type": "stream",
     "text": [
      "\n"
     ]
    }
   ],
   "source": [
    "from tqdm.auto import tqdm\n",
    "for epoch in range(epochs):\n",
    "    total_loss = []\n",
    "    for bidx, (data, target) in tqdm(enumerate(train_loader)):\n",
    "        optimizer.zero_grad(set_to_none=True)\n",
    "        \n",
    "        output = bc(data)\n",
    "        loss = loss_fn(output, target.squeeze())\n",
    "        total_loss.append(loss.item())\n",
    "        loss.backward()\n",
    "        optimizer.step()\n",
    "    loss_history.append(sum(total_loss) / len(total_loss))\n",
    "    print(\"Training [{:.0f}%]\\tLoss : {:.4f}\".format(100.0 * (epoch + 1) / epochs, loss_history[-1]))"
   ]
  },
  {
   "cell_type": "code",
   "execution_count": 51,
   "id": "f42c6cb0",
   "metadata": {},
   "outputs": [
    {
     "data": {
      "image/png": "[encoded data removed]",
      "text/plain": [
       "<Figure size 640x480 with 1 Axes>"
      ]
     },
     "metadata": {},
     "output_type": "display_data"
    }
   ],
   "source": [
    "plt.plot(loss_history, label='Loss')\n",
    "plt.title('Hybrid Qnn Pennylane')\n",
    "plt.xlabel('Epoch')\n",
    "plt.ylabel('Neg-Log-Likelihood Loss')\n",
    "plt.legend()\n",
    "plt.show()"
   ]
  },
  {
   "cell_type": "code",
   "execution_count": 52,
   "id": "c5cceb11",
   "metadata": {},
   "outputs": [],
   "source": [
    "from torch import save\n",
    "\n",
    "\n",
    "torch.save(bc.state_dict(), \"binary_classifier.pt\")"
   ]
  },
  {
   "cell_type": "code",
   "execution_count": 53,
   "id": "0941183d",
   "metadata": {},
   "outputs": [
    {
     "data": {
      "text/plain": [
       "<All keys matched successfully>"
      ]
     },
     "execution_count": 53,
     "metadata": {},
     "output_type": "execute_result"
    }
   ],
   "source": [
    "bc2 = BinaryClassifier()\n",
    "bc2.load_state_dict(torch.load(\"binary_classifier.pt\"))"
   ]
  },
  {
   "cell_type": "code",
   "execution_count": 54,
   "id": "cea338b5",
   "metadata": {},
   "outputs": [],
   "source": [
    "test_loader = DataLoader(zero_one_dataset_test, batch_size=64, shuffle=False)"
   ]
  },
  {
   "cell_type": "code",
   "execution_count": 55,
   "id": "79d1e581",
   "metadata": {},
   "outputs": [],
   "source": [
    "data, target = next(iter(test_loader))"
   ]
  },
  {
   "cell_type": "code",
   "execution_count": 56,
   "id": "b0c2bc4b",
   "metadata": {},
   "outputs": [
    {
     "data": {
      "text/plain": [
       "torch.Size([64, 1, 28, 28])"
      ]
     },
     "execution_count": 56,
     "metadata": {},
     "output_type": "execute_result"
    }
   ],
   "source": [
    "data.shape"
   ]
  },
  {
   "cell_type": "code",
   "execution_count": 58,
   "id": "02b588b6",
   "metadata": {},
   "outputs": [
    {
     "data": {
      "text/plain": [
       "64"
      ]
     },
     "execution_count": 58,
     "metadata": {},
     "output_type": "execute_result"
    }
   ],
   "source": [
    "log_softmax_prob = bc2(data)\n",
    "probs = torch.exp(log_softmax_prob)\n",
    "prediction = torch.argmax(probs, dim=1,keepdim=True)\n",
    "prediction.eq(target.view_as(prediction)).sum().item()"
   ]
  },
  {
   "cell_type": "code",
   "execution_count": 59,
   "id": "cbf153a3",
   "metadata": {},
   "outputs": [
    {
     "name": "stdout",
     "output_type": "stream",
     "text": [
      "Performance on test data:\n",
      "\n",
      "Loss : 0.0168\n",
      "Accuracy : 97.2%\n"
     ]
    }
   ],
   "source": [
    "from torch import no_grad\n",
    "\n",
    "bc2.eval()\n",
    "batch_size = 64\n",
    "with no_grad():\n",
    "    correct = 0\n",
    "    total_loss = []\n",
    "    for batch_idx, (data, target) in enumerate(test_loader):\n",
    "        log_softmax_prob = bc2(data)\n",
    "        probs = torch.exp(log_softmax_prob)\n",
    "        prediction = torch.argmax(probs, dim=1, keepdim=True)\n",
    "        correct += prediction.eq(target.view_as(prediction)).sum().item()\n",
    "        \n",
    "        loss = loss_func(log_softmax_prob, target)\n",
    "        total_loss.append(loss.item())\n",
    "    print(\"Performance on test data:\\n\\nLoss : {:.4f}\\nAccuracy : {:.1f}%\".format(sum(total_loss)/len(total_loss), correct / len(test_loader) / batch_size *100))"
   ]
  },
  {
   "cell_type": "code",
   "execution_count": 60,
   "id": "e8e117cf",
   "metadata": {},
   "outputs": [
    {
     "data": {
      "image/png": "[encoded data removed]",
      "text/plain": [
       "<Figure size 1000x300 with 6 Axes>"
      ]
     },
     "metadata": {},
     "output_type": "display_data"
    }
   ],
   "source": [
    "n_samples_show = 6\n",
    "count = 0\n",
    "fig, axes = plt.subplots(nrows=1, ncols=n_samples_show, figsize=(10, 3))\n",
    "\n",
    "bc2.eval()\n",
    "with no_grad():\n",
    "    for batch_idx, (data, target) in enumerate(test_loader):\n",
    "        if count >= n_samples_show:\n",
    "            break\n",
    "        \n",
    "        output = bc2(data[0:1])\n",
    "        if len(output.shape) == 1:\n",
    "            output = output.reshape(1, *output.shape)\n",
    "        \n",
    "        pred = output.argmax(dim=1, keepdim=True)\n",
    "        \n",
    "        axes[count].imshow(data[0][0].numpy().squeeze(), cmap='gray')\n",
    "        \n",
    "        axes[count].set_xticks([])\n",
    "        axes[count].set_yticks([])\n",
    "        axes[count].set_title(\"Predicted {}\".format(pred.item()))\n",
    "        \n",
    "        count += 1"
   ]
  },
  {
   "cell_type": "code",
   "execution_count": null,
   "id": "b1ba5d9a",
   "metadata": {},
   "outputs": [],
   "source": []
  }
 ],
 "metadata": {
  "kernelspec": {
   "display_name": ".venv",
   "language": "python",
   "name": "python3"
  },
  "language_info": {
   "codemirror_mode": {
    "name": "ipython",
    "version": 3
   },
   "file_extension": ".py",
   "mimetype": "text/x-python",
   "name": "python",
   "nbconvert_exporter": "python",
   "pygments_lexer": "ipython3",
   "version": "3.12.2"
  }
 },
 "nbformat": 4,
 "nbformat_minor": 5
}
